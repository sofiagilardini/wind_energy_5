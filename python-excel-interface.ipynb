{
 "cells": [
  {
   "cell_type": "code",
   "execution_count": 6,
   "metadata": {},
   "outputs": [],
   "source": [
    "import xlwings as xw\n",
    "import pandas as pd\n",
    "import matplotlib.pyplot as plt"
   ]
  },
  {
   "cell_type": "code",
   "execution_count": 15,
   "metadata": {},
   "outputs": [],
   "source": [
    "wb = xw.Book(\"Book1_WIND.xlsx\")\n",
    "\n",
    "sht = wb.sheets['p_data_combined']"
   ]
  },
  {
   "cell_type": "code",
   "execution_count": 31,
   "metadata": {},
   "outputs": [],
   "source": [
    "df = sht['A1'].value\n",
    "\n",
    "df = pd.read_excel(\"Book1_WIND.xlsx\", sheet_name='P_data_jan_dec_2017')\n",
    "\n",
    "import pandas as pd\n",
    "\n",
    "# Assuming your DataFrame df is defined as before\n",
    "\n",
    "def get_cardinal_direction(degrees):\n",
    "    if 0 <= degrees < 11.25 or 348.75 <= degrees <= 360:\n",
    "        return 'N'\n",
    "    elif 11.25 <= degrees < 33.75:\n",
    "        return 'NNE'\n",
    "    elif 33.75 <= degrees < 56.25:\n",
    "        return 'NE'\n",
    "    elif 56.25 <= degrees < 78.75:\n",
    "        return 'ENE'\n",
    "    elif 78.75 <= degrees < 101.25:\n",
    "        return 'E'\n",
    "    elif 101.25 <= degrees < 123.75:\n",
    "        return 'ESE'\n",
    "    elif 123.75 <= degrees < 146.25:\n",
    "        return 'SE'\n",
    "    elif 146.25 <= degrees < 168.75:\n",
    "        return 'SSE'\n",
    "    elif 168.75 <= degrees < 191.25:\n",
    "        return 'S'\n",
    "    elif 191.25 <= degrees < 213.75:\n",
    "        return 'SSW'\n",
    "    elif 213.75 <= degrees < 236.25:\n",
    "        return 'SW'\n",
    "    elif 236.25 <= degrees < 258.75:\n",
    "        return 'WSW'\n",
    "    elif 258.75 <= degrees < 281.25:\n",
    "        return 'W'\n",
    "    elif 281.25 <= degrees < 303.75:\n",
    "        return 'WNW'\n",
    "    elif 303.75 <= degrees < 326.25:\n",
    "        return 'NW'\n",
    "    elif 326.25 <= degrees < 348.75:\n",
    "        return 'NNW'\n",
    "    else:\n",
    "        return 'Invalid'\n",
    "\n",
    "# Apply the function to each element in the Series\n",
    "df['Cardinal direction'] = df['Wind direction (degree)'].apply(get_cardinal_direction)"
   ]
  },
  {
   "cell_type": "code",
   "execution_count": 35,
   "metadata": {},
   "outputs": [],
   "source": [
    "# Connect to your Excel workbook and sheet\n",
    "wb = xw.Book('Book1_WIND.xlsx')  # Replace with your actual workbook name\n",
    "sht = wb.sheets['P_data_jan_dec_2017']  # Replace with your actual sheet name\n",
    "\n",
    "# Write the modified DataFrame to column E, starting from the first row\n",
    "sht.range('E1').options(index=False, header=True).value = df['Cardinal direction']\n",
    "\n",
    "wb.save()\n"
   ]
  },
  {
   "cell_type": "code",
   "execution_count": null,
   "metadata": {},
   "outputs": [],
   "source": []
  }
 ],
 "metadata": {
  "kernelspec": {
   "display_name": "wind_energy",
   "language": "python",
   "name": "python3"
  },
  "language_info": {
   "codemirror_mode": {
    "name": "ipython",
    "version": 3
   },
   "file_extension": ".py",
   "mimetype": "text/x-python",
   "name": "python",
   "nbconvert_exporter": "python",
   "pygments_lexer": "ipython3",
   "version": "3.9.18"
  }
 },
 "nbformat": 4,
 "nbformat_minor": 2
}
