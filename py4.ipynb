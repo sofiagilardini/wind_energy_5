{
 "cells": [
  {
   "cell_type": "code",
   "execution_count": 2,
   "metadata": {},
   "outputs": [],
   "source": [
    "import matplotlib.pyplot as plt \n",
    "import numpy as np \n",
    "import pandas\n",
    "import plotly.express as px\n",
    "from windrose import WindroseAxes"
   ]
  },
  {
   "cell_type": "code",
   "execution_count": 3,
   "metadata": {},
   "outputs": [
    {
     "data": {
      "text/html": [
       "<div>\n",
       "<style scoped>\n",
       "    .dataframe tbody tr th:only-of-type {\n",
       "        vertical-align: middle;\n",
       "    }\n",
       "\n",
       "    .dataframe tbody tr th {\n",
       "        vertical-align: top;\n",
       "    }\n",
       "\n",
       "    .dataframe thead th {\n",
       "        text-align: right;\n",
       "    }\n",
       "</style>\n",
       "<table border=\"1\" class=\"dataframe\">\n",
       "  <thead>\n",
       "    <tr style=\"text-align: right;\">\n",
       "      <th></th>\n",
       "      <th>name</th>\n",
       "      <th>hubheight</th>\n",
       "    </tr>\n",
       "  </thead>\n",
       "  <tbody>\n",
       "    <tr>\n",
       "      <th>0</th>\n",
       "      <td>sofia</td>\n",
       "      <td>uno</td>\n",
       "    </tr>\n",
       "    <tr>\n",
       "      <th>1</th>\n",
       "      <td>fernando</td>\n",
       "      <td>dos</td>\n",
       "    </tr>\n",
       "  </tbody>\n",
       "</table>\n",
       "</div>"
      ],
      "text/plain": [
       "       name hubheight\n",
       "0     sofia       uno\n",
       "1  fernando       dos"
      ]
     },
     "execution_count": 3,
     "metadata": {},
     "output_type": "execute_result"
    }
   ],
   "source": [
    "\n",
    "\n",
    "tbdict = {\n",
    "    \"model\" : ['Enercon E-70 E4 2.300' , 'Enercon E-82 E4 3.000', \"Vestas V136-3.45 MW\"],\n",
    "    \"ratedpower\" : [2.3 , 3, 3.5],\n",
    "    \"cut_in\" : [2.5, 3, 3],\n",
    "    \"ratedwind\" : [15, 16, ], \n",
    "    \"cutout\" : [34, 34], \n",
    "    \"tipspeed\" : [78, 77],\n",
    "    \"diameter\" : [71, 82], \n",
    "    \"hubheight\" : [58, 59],\n",
    "    \"variable_hubheight\" : [True, True]\n",
    "}\n",
    "\n",
    "tbdf = pandas.DataFrame.from_dict(tbdict)\n",
    "\n",
    "tbdf\n",
    "\n"
   ]
  },
  {
   "cell_type": "code",
   "execution_count": null,
   "metadata": {},
   "outputs": [],
   "source": []
  }
 ],
 "metadata": {
  "kernelspec": {
   "display_name": "wind_energy",
   "language": "python",
   "name": "python3"
  },
  "language_info": {
   "codemirror_mode": {
    "name": "ipython",
    "version": 3
   },
   "file_extension": ".py",
   "mimetype": "text/x-python",
   "name": "python",
   "nbconvert_exporter": "python",
   "pygments_lexer": "ipython3",
   "version": "3.9.18"
  }
 },
 "nbformat": 4,
 "nbformat_minor": 2
}
