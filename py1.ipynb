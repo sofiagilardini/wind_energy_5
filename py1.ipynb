{
 "cells": [
  {
   "cell_type": "code",
   "execution_count": 4,
   "metadata": {},
   "outputs": [],
   "source": [
    "import matplotlib.pyplot as plt \n",
    "import numpy as np \n",
    "import pandas\n",
    "import plotly.express as px\n",
    "from windrose import WindroseAxes\n",
    "\n",
    "df_P = pandas.read_excel('./datasets/Penmanshiel.xlsx' , sheet_name=1)"
   ]
  },
  {
   "cell_type": "code",
   "execution_count": 6,
   "metadata": {},
   "outputs": [],
   "source": [
    "# rename columns for simplicity\n",
    "\n",
    "df_P.columns = ['date_time', 'wind_speed', 'wind_speed_std', 'wind_dir']\n",
    "\n",
    "# create a new dataframe where we ensure that none of the values in speed and std are not zero\n",
    "\n",
    "df2 = df_P[(df_P['wind_speed'] != 0) & (df_P['wind_speed_std'] != 0)].reset_index(drop = True)"
   ]
  },
  {
   "cell_type": "code",
   "execution_count": 8,
   "metadata": {},
   "outputs": [
    {
     "data": {
      "text/plain": [
       "7.735113373800476"
      ]
     },
     "execution_count": 8,
     "metadata": {},
     "output_type": "execute_result"
    }
   ],
   "source": [
    "avg_windspeed = df_P['wind_speed'].mean()\n",
    "\n",
    "avg_windspeed"
   ]
  },
  {
   "cell_type": "code",
   "execution_count": null,
   "metadata": {},
   "outputs": [
    {
     "name": "stdout",
     "output_type": "stream",
     "text": [
      "avg_TI 0.13170857241681097\n"
     ]
    },
    {
     "data": {
      "text/plain": [
       "count    52394.000000\n",
       "mean         0.131709\n",
       "std          0.061050\n",
       "min          0.022989\n",
       "25%          0.099138\n",
       "50%          0.121636\n",
       "75%          0.147668\n",
       "max          1.159091\n",
       "Name: Turbulence Intensity, dtype: float64"
      ]
     },
     "execution_count": 22,
     "metadata": {},
     "output_type": "execute_result"
    }
   ],
   "source": [
    "df2['Turbulence Intensity'] =  (df2['wind_speed_std']) / (df2['wind_speed'])\n",
    "\n",
    "# average turbulence intensity\n",
    "\n",
    "avg_TI = df2['Turbulence Intensity'].mean()\n",
    "\n",
    "print(\"avg_TI\", avg_TI)\n",
    "\n",
    "df2['Turbulence Intensity'].describe()"
   ]
  },
  {
   "cell_type": "code",
   "execution_count": null,
   "metadata": {},
   "outputs": [
    {
     "name": "stdout",
     "output_type": "stream",
     "text": [
      "average speed over the 12 month period is: 7.735113373800476\n"
     ]
    }
   ],
   "source": [
    "mean_12months = df2['wind_speed'].mean()\n",
    "print(f\"average speed over the 12 month period is: {mean_12months}\")"
   ]
  },
  {
   "cell_type": "code",
   "execution_count": null,
   "metadata": {},
   "outputs": [
    {
     "data": {
      "text/plain": [
       "0.031260941350514125"
      ]
     },
     "execution_count": 24,
     "metadata": {},
     "output_type": "execute_result"
    }
   ],
   "source": [
    "# find z_0 using turbulence intensity \n",
    "\n",
    "# P. site wind measured at (estimated) 62m\n",
    "\n",
    "z_1 = 62\n",
    "\n",
    "temp = 1/avg_TI\n",
    "temp = np.exp(temp)\n",
    "temp = 1/temp\n",
    "z_0 = temp * z_1\n",
    "\n",
    "z_0"
   ]
  },
  {
   "cell_type": "code",
   "execution_count": 27,
   "metadata": {},
   "outputs": [],
   "source": [
    "# generate a wind rose for the P. data\n",
    "\n",
    "# round all the decimals to the nearest integer to make the classification discrete\n",
    "df2['wind_dir_rounded'] = df2['wind_dir'].round()\n",
    "\n",
    "dir_vcounts = df2['wind_dir_rounded'].value_counts().reset_index(drop = False)\n",
    "\n",
    "\n",
    "\n"
   ]
  },
  {
   "cell_type": "code",
   "execution_count": 16,
   "metadata": {},
   "outputs": [],
   "source": [
    "def get_cardinal_direction(degrees):\n",
    "    if 0 <= degrees < 11.25 or 348.75 <= degrees <= 360:\n",
    "        return 'N'\n",
    "    elif 11.25 <= degrees < 33.75:\n",
    "        return 'NNE'\n",
    "    elif 33.75 <= degrees < 56.25:\n",
    "        return 'NE'\n",
    "    elif 56.25 <= degrees < 78.75:\n",
    "        return 'ENE'\n",
    "    elif 78.75 <= degrees < 101.25:\n",
    "        return 'E'\n",
    "    elif 101.25 <= degrees < 123.75:\n",
    "        return 'ESE'\n",
    "    elif 123.75 <= degrees < 146.25:\n",
    "        return 'SE'\n",
    "    elif 146.25 <= degrees < 168.75:\n",
    "        return 'SSE'\n",
    "    elif 168.75 <= degrees < 191.25:\n",
    "        return 'S'\n",
    "    elif 191.25 <= degrees < 213.75:\n",
    "        return 'SSW'\n",
    "    elif 213.75 <= degrees < 236.25:\n",
    "        return 'SW'\n",
    "    elif 236.25 <= degrees < 258.75:\n",
    "        return 'WSW'\n",
    "    elif 258.75 <= degrees < 281.25:\n",
    "        return 'W'\n",
    "    elif 281.25 <= degrees < 303.75:\n",
    "        return 'WNW'\n",
    "    elif 303.75 <= degrees < 326.25:\n",
    "        return 'NW'\n",
    "    elif 326.25 <= degrees < 348.75:\n",
    "        return 'NNW'\n",
    "    else:\n",
    "        return 'Invalid'"
   ]
  },
  {
   "cell_type": "code",
   "execution_count": 34,
   "metadata": {},
   "outputs": [
    {
     "data": {
      "text/html": [
       "<div>\n",
       "<style scoped>\n",
       "    .dataframe tbody tr th:only-of-type {\n",
       "        vertical-align: middle;\n",
       "    }\n",
       "\n",
       "    .dataframe tbody tr th {\n",
       "        vertical-align: top;\n",
       "    }\n",
       "\n",
       "    .dataframe thead th {\n",
       "        text-align: right;\n",
       "    }\n",
       "</style>\n",
       "<table border=\"1\" class=\"dataframe\">\n",
       "  <thead>\n",
       "    <tr style=\"text-align: right;\">\n",
       "      <th></th>\n",
       "      <th>wind_dir_rounded</th>\n",
       "      <th>count</th>\n",
       "      <th>Cardinal Direction</th>\n",
       "    </tr>\n",
       "  </thead>\n",
       "  <tbody>\n",
       "    <tr>\n",
       "      <th>0</th>\n",
       "      <td>196.0</td>\n",
       "      <td>380</td>\n",
       "      <td>SSW</td>\n",
       "    </tr>\n",
       "    <tr>\n",
       "      <th>1</th>\n",
       "      <td>259.0</td>\n",
       "      <td>376</td>\n",
       "      <td>W</td>\n",
       "    </tr>\n",
       "    <tr>\n",
       "      <th>2</th>\n",
       "      <td>255.0</td>\n",
       "      <td>376</td>\n",
       "      <td>WSW</td>\n",
       "    </tr>\n",
       "    <tr>\n",
       "      <th>3</th>\n",
       "      <td>253.0</td>\n",
       "      <td>374</td>\n",
       "      <td>WSW</td>\n",
       "    </tr>\n",
       "    <tr>\n",
       "      <th>4</th>\n",
       "      <td>256.0</td>\n",
       "      <td>374</td>\n",
       "      <td>WSW</td>\n",
       "    </tr>\n",
       "    <tr>\n",
       "      <th>...</th>\n",
       "      <td>...</td>\n",
       "      <td>...</td>\n",
       "      <td>...</td>\n",
       "    </tr>\n",
       "    <tr>\n",
       "      <th>356</th>\n",
       "      <td>70.0</td>\n",
       "      <td>23</td>\n",
       "      <td>ENE</td>\n",
       "    </tr>\n",
       "    <tr>\n",
       "      <th>357</th>\n",
       "      <td>77.0</td>\n",
       "      <td>23</td>\n",
       "      <td>ENE</td>\n",
       "    </tr>\n",
       "    <tr>\n",
       "      <th>358</th>\n",
       "      <td>91.0</td>\n",
       "      <td>20</td>\n",
       "      <td>E</td>\n",
       "    </tr>\n",
       "    <tr>\n",
       "      <th>359</th>\n",
       "      <td>79.0</td>\n",
       "      <td>18</td>\n",
       "      <td>E</td>\n",
       "    </tr>\n",
       "    <tr>\n",
       "      <th>360</th>\n",
       "      <td>75.0</td>\n",
       "      <td>15</td>\n",
       "      <td>ENE</td>\n",
       "    </tr>\n",
       "  </tbody>\n",
       "</table>\n",
       "<p>361 rows × 3 columns</p>\n",
       "</div>"
      ],
      "text/plain": [
       "     wind_dir_rounded  count Cardinal Direction\n",
       "0               196.0    380                SSW\n",
       "1               259.0    376                  W\n",
       "2               255.0    376                WSW\n",
       "3               253.0    374                WSW\n",
       "4               256.0    374                WSW\n",
       "..                ...    ...                ...\n",
       "356              70.0     23                ENE\n",
       "357              77.0     23                ENE\n",
       "358              91.0     20                  E\n",
       "359              79.0     18                  E\n",
       "360              75.0     15                ENE\n",
       "\n",
       "[361 rows x 3 columns]"
      ]
     },
     "execution_count": 34,
     "metadata": {},
     "output_type": "execute_result"
    }
   ],
   "source": [
    "dir_vcounts"
   ]
  },
  {
   "cell_type": "code",
   "execution_count": 48,
   "metadata": {},
   "outputs": [
    {
     "data": {
      "text/html": [
       "<div>\n",
       "<style scoped>\n",
       "    .dataframe tbody tr th:only-of-type {\n",
       "        vertical-align: middle;\n",
       "    }\n",
       "\n",
       "    .dataframe tbody tr th {\n",
       "        vertical-align: top;\n",
       "    }\n",
       "\n",
       "    .dataframe thead th {\n",
       "        text-align: right;\n",
       "    }\n",
       "</style>\n",
       "<table border=\"1\" class=\"dataframe\">\n",
       "  <thead>\n",
       "    <tr style=\"text-align: right;\">\n",
       "      <th></th>\n",
       "      <th>wind_dir_rounded</th>\n",
       "      <th>count</th>\n",
       "      <th>Cardinal Direction</th>\n",
       "    </tr>\n",
       "  </thead>\n",
       "  <tbody>\n",
       "    <tr>\n",
       "      <th>0</th>\n",
       "      <td>196.0</td>\n",
       "      <td>0.725274</td>\n",
       "      <td>SSW</td>\n",
       "    </tr>\n",
       "    <tr>\n",
       "      <th>1</th>\n",
       "      <td>259.0</td>\n",
       "      <td>0.717639</td>\n",
       "      <td>W</td>\n",
       "    </tr>\n",
       "    <tr>\n",
       "      <th>2</th>\n",
       "      <td>255.0</td>\n",
       "      <td>0.717639</td>\n",
       "      <td>WSW</td>\n",
       "    </tr>\n",
       "    <tr>\n",
       "      <th>3</th>\n",
       "      <td>253.0</td>\n",
       "      <td>0.713822</td>\n",
       "      <td>WSW</td>\n",
       "    </tr>\n",
       "    <tr>\n",
       "      <th>4</th>\n",
       "      <td>256.0</td>\n",
       "      <td>0.713822</td>\n",
       "      <td>WSW</td>\n",
       "    </tr>\n",
       "    <tr>\n",
       "      <th>...</th>\n",
       "      <td>...</td>\n",
       "      <td>...</td>\n",
       "      <td>...</td>\n",
       "    </tr>\n",
       "    <tr>\n",
       "      <th>356</th>\n",
       "      <td>70.0</td>\n",
       "      <td>0.043898</td>\n",
       "      <td>ENE</td>\n",
       "    </tr>\n",
       "    <tr>\n",
       "      <th>357</th>\n",
       "      <td>77.0</td>\n",
       "      <td>0.043898</td>\n",
       "      <td>ENE</td>\n",
       "    </tr>\n",
       "    <tr>\n",
       "      <th>358</th>\n",
       "      <td>91.0</td>\n",
       "      <td>0.038172</td>\n",
       "      <td>E</td>\n",
       "    </tr>\n",
       "    <tr>\n",
       "      <th>359</th>\n",
       "      <td>79.0</td>\n",
       "      <td>0.034355</td>\n",
       "      <td>E</td>\n",
       "    </tr>\n",
       "    <tr>\n",
       "      <th>360</th>\n",
       "      <td>75.0</td>\n",
       "      <td>0.028629</td>\n",
       "      <td>ENE</td>\n",
       "    </tr>\n",
       "  </tbody>\n",
       "</table>\n",
       "<p>361 rows × 3 columns</p>\n",
       "</div>"
      ],
      "text/plain": [
       "     wind_dir_rounded     count Cardinal Direction\n",
       "0               196.0  0.725274                SSW\n",
       "1               259.0  0.717639                  W\n",
       "2               255.0  0.717639                WSW\n",
       "3               253.0  0.713822                WSW\n",
       "4               256.0  0.713822                WSW\n",
       "..                ...       ...                ...\n",
       "356              70.0  0.043898                ENE\n",
       "357              77.0  0.043898                ENE\n",
       "358              91.0  0.038172                  E\n",
       "359              79.0  0.034355                  E\n",
       "360              75.0  0.028629                ENE\n",
       "\n",
       "[361 rows x 3 columns]"
      ]
     },
     "execution_count": 48,
     "metadata": {},
     "output_type": "execute_result"
    }
   ],
   "source": [
    "dir_vcounts[\"Cardinal Direction\"] = dir_vcounts['wind_dir_rounded'].apply(get_cardinal_direction)\n",
    "\n",
    "dir_vcounts_df = dir_vcounts[['wind_dir_rounded', 'count', 'Cardinal Direction']].reset_index(drop = True)\n",
    "\n",
    "dir_vcounts_df['count'] = (dir_vcounts_df['count']) / dir_vcounts_df['count'].sum() * 100\n",
    "\n",
    "dir_vcounts_df"
   ]
  },
  {
   "cell_type": "code",
   "execution_count": null,
   "metadata": {},
   "outputs": [],
   "source": [
    "grouped_data = dir_vcounts_df.groupby('Cardinal Direction')['count'].sum().reset_index()\n"
   ]
  },
  {
   "cell_type": "code",
   "execution_count": 59,
   "metadata": {},
   "outputs": [
    {
     "data": {
      "text/html": [
       "<div>\n",
       "<style scoped>\n",
       "    .dataframe tbody tr th:only-of-type {\n",
       "        vertical-align: middle;\n",
       "    }\n",
       "\n",
       "    .dataframe tbody tr th {\n",
       "        vertical-align: top;\n",
       "    }\n",
       "\n",
       "    .dataframe thead th {\n",
       "        text-align: right;\n",
       "    }\n",
       "</style>\n",
       "<table border=\"1\" class=\"dataframe\">\n",
       "  <thead>\n",
       "    <tr style=\"text-align: right;\">\n",
       "      <th></th>\n",
       "      <th>Cardinal Direction</th>\n",
       "      <th>count</th>\n",
       "    </tr>\n",
       "  </thead>\n",
       "  <tbody>\n",
       "    <tr>\n",
       "      <th>11</th>\n",
       "      <td>SSW</td>\n",
       "      <td>13.831736</td>\n",
       "    </tr>\n",
       "    <tr>\n",
       "      <th>13</th>\n",
       "      <td>W</td>\n",
       "      <td>13.463488</td>\n",
       "    </tr>\n",
       "    <tr>\n",
       "      <th>15</th>\n",
       "      <td>WSW</td>\n",
       "      <td>12.883155</td>\n",
       "    </tr>\n",
       "    <tr>\n",
       "      <th>12</th>\n",
       "      <td>SW</td>\n",
       "      <td>10.879108</td>\n",
       "    </tr>\n",
       "    <tr>\n",
       "      <th>14</th>\n",
       "      <td>WNW</td>\n",
       "      <td>9.747185</td>\n",
       "    </tr>\n",
       "    <tr>\n",
       "      <th>8</th>\n",
       "      <td>S</td>\n",
       "      <td>7.979921</td>\n",
       "    </tr>\n",
       "    <tr>\n",
       "      <th>9</th>\n",
       "      <td>SE</td>\n",
       "      <td>6.370959</td>\n",
       "    </tr>\n",
       "    <tr>\n",
       "      <th>10</th>\n",
       "      <td>SSE</td>\n",
       "      <td>5.769745</td>\n",
       "    </tr>\n",
       "    <tr>\n",
       "      <th>7</th>\n",
       "      <td>NW</td>\n",
       "      <td>3.487041</td>\n",
       "    </tr>\n",
       "    <tr>\n",
       "      <th>3</th>\n",
       "      <td>N</td>\n",
       "      <td>3.336260</td>\n",
       "    </tr>\n",
       "    <tr>\n",
       "      <th>6</th>\n",
       "      <td>NNW</td>\n",
       "      <td>2.815208</td>\n",
       "    </tr>\n",
       "    <tr>\n",
       "      <th>2</th>\n",
       "      <td>ESE</td>\n",
       "      <td>2.330420</td>\n",
       "    </tr>\n",
       "    <tr>\n",
       "      <th>5</th>\n",
       "      <td>NNE</td>\n",
       "      <td>2.183456</td>\n",
       "    </tr>\n",
       "    <tr>\n",
       "      <th>4</th>\n",
       "      <td>NE</td>\n",
       "      <td>2.107112</td>\n",
       "    </tr>\n",
       "    <tr>\n",
       "      <th>1</th>\n",
       "      <td>ENE</td>\n",
       "      <td>1.498263</td>\n",
       "    </tr>\n",
       "    <tr>\n",
       "      <th>0</th>\n",
       "      <td>E</td>\n",
       "      <td>1.316945</td>\n",
       "    </tr>\n",
       "  </tbody>\n",
       "</table>\n",
       "</div>"
      ],
      "text/plain": [
       "   Cardinal Direction      count\n",
       "11                SSW  13.831736\n",
       "13                  W  13.463488\n",
       "15                WSW  12.883155\n",
       "12                 SW  10.879108\n",
       "14                WNW   9.747185\n",
       "8                   S   7.979921\n",
       "9                  SE   6.370959\n",
       "10                SSE   5.769745\n",
       "7                  NW   3.487041\n",
       "3                   N   3.336260\n",
       "6                 NNW   2.815208\n",
       "2                 ESE   2.330420\n",
       "5                 NNE   2.183456\n",
       "4                  NE   2.107112\n",
       "1                 ENE   1.498263\n",
       "0                   E   1.316945"
      ]
     },
     "execution_count": 59,
     "metadata": {},
     "output_type": "execute_result"
    }
   ],
   "source": [
    "grouped_data = grouped_data.sort_values(by = 'count', ascending=False)\n",
    "\n",
    "grouped_data"
   ]
  },
  {
   "cell_type": "code",
   "execution_count": 56,
   "metadata": {},
   "outputs": [
    {
     "name": "stderr",
     "output_type": "stream",
     "text": [
      "/var/folders/6f/q6rj66q95cj2gdjclzvg_66m0000gp/T/ipykernel_35773/3398959021.py:1: FutureWarning:\n",
      "\n",
      "ChainedAssignmentError: behaviour will change in pandas 3.0!\n",
      "You are setting values through chained assignment. Currently this works in certain cases, but when using Copy-on-Write (which will become the default behaviour in pandas 3.0) this will never work to update the original DataFrame or Series, because the intermediate object on which we are setting values will behave as a copy.\n",
      "A typical example is when you are setting values in a column of a DataFrame, like:\n",
      "\n",
      "df[\"col\"][row_indexer] = value\n",
      "\n",
      "Use `df.loc[row_indexer, \"col\"] = values` instead, to perform the assignment in a single step and ensure this keeps updating the original `df`.\n",
      "\n",
      "See the caveats in the documentation: https://pandas.pydata.org/pandas-docs/stable/user_guide/indexing.html#returning-a-view-versus-a-copy\n",
      "\n",
      "\n",
      "/var/folders/6f/q6rj66q95cj2gdjclzvg_66m0000gp/T/ipykernel_35773/3398959021.py:1: SettingWithCopyWarning:\n",
      "\n",
      "\n",
      "A value is trying to be set on a copy of a slice from a DataFrame\n",
      "\n",
      "See the caveats in the documentation: https://pandas.pydata.org/pandas-docs/stable/user_guide/indexing.html#returning-a-view-versus-a-copy\n",
      "\n"
     ]
    }
   ],
   "source": []
  },
  {
   "cell_type": "code",
   "execution_count": 58,
   "metadata": {},
   "outputs": [
    {
     "name": "stderr",
     "output_type": "stream",
     "text": [
      "/var/folders/6f/q6rj66q95cj2gdjclzvg_66m0000gp/T/ipykernel_35773/407021301.py:1: FutureWarning:\n",
      "\n",
      "ChainedAssignmentError: behaviour will change in pandas 3.0!\n",
      "You are setting values through chained assignment. Currently this works in certain cases, but when using Copy-on-Write (which will become the default behaviour in pandas 3.0) this will never work to update the original DataFrame or Series, because the intermediate object on which we are setting values will behave as a copy.\n",
      "A typical example is when you are setting values in a column of a DataFrame, like:\n",
      "\n",
      "df[\"col\"][row_indexer] = value\n",
      "\n",
      "Use `df.loc[row_indexer, \"col\"] = values` instead, to perform the assignment in a single step and ensure this keeps updating the original `df`.\n",
      "\n",
      "See the caveats in the documentation: https://pandas.pydata.org/pandas-docs/stable/user_guide/indexing.html#returning-a-view-versus-a-copy\n",
      "\n",
      "\n",
      "/var/folders/6f/q6rj66q95cj2gdjclzvg_66m0000gp/T/ipykernel_35773/407021301.py:1: SettingWithCopyWarning:\n",
      "\n",
      "\n",
      "A value is trying to be set on a copy of a slice from a DataFrame\n",
      "\n",
      "See the caveats in the documentation: https://pandas.pydata.org/pandas-docs/stable/user_guide/indexing.html#returning-a-view-versus-a-copy\n",
      "\n"
     ]
    }
   ],
   "source": []
  },
  {
   "cell_type": "code",
   "execution_count": 60,
   "metadata": {},
   "outputs": [],
   "source": [
    "import xlwings as xw\n",
    "\n",
    "wb = xw.Book(\"Book1_WIND.xlsx\")\n",
    "\n",
    "sht = wb.sheets['wind_characterisation']\n",
    "\n",
    "sht.range('I16').options(index=False, header=True).value = grouped_data\n"
   ]
  },
  {
   "cell_type": "code",
   "execution_count": 55,
   "metadata": {},
   "outputs": [
    {
     "data": {
      "application/vnd.plotly.v1+json": {
       "config": {
        "plotlyServerURL": "https://plot.ly"
       },
       "data": [
        {
         "hovertemplate": "count=%{marker.color}<br>wind_dir_rounded=%{theta}<extra></extra>",
         "legendgroup": "",
         "marker": {
          "color": [
           380,
           376,
           376,
           374,
           374,
           371,
           370,
           363,
           362,
           361,
           353,
           351,
           350,
           349,
           348,
           347,
           347,
           346,
           346,
           346,
           344,
           343,
           343,
           343,
           342,
           342,
           341,
           341,
           340,
           340,
           334,
           330,
           329,
           327,
           327,
           326,
           324,
           324,
           323,
           321,
           321,
           315,
           315,
           313,
           312,
           311,
           309,
           306,
           300,
           297,
           297,
           295,
           293,
           293,
           289,
           288,
           283,
           283,
           282,
           281,
           280,
           278,
           275,
           274,
           272,
           270,
           267,
           264,
           262,
           261,
           261,
           256,
           256,
           256,
           256,
           255,
           254,
           254,
           253,
           252,
           252,
           252,
           252,
           250,
           249,
           247,
           246,
           246,
           244,
           237,
           236,
           235,
           231,
           231,
           229,
           228,
           227,
           227,
           225,
           224,
           223,
           222,
           222,
           219,
           218,
           218,
           216,
           211,
           210,
           209,
           209,
           208,
           202,
           201,
           200,
           199,
           196,
           196,
           194,
           192,
           192,
           189,
           189,
           186,
           184,
           183,
           183,
           182,
           176,
           175,
           175,
           175,
           175,
           174,
           173,
           173,
           172,
           168,
           167,
           166,
           162,
           158,
           156,
           155,
           151,
           150,
           149,
           148,
           148,
           146,
           145,
           140,
           137,
           135,
           129,
           128,
           128,
           127,
           125,
           121,
           120,
           118,
           117,
           114,
           113,
           112,
           110,
           110,
           110,
           108,
           108,
           106,
           106,
           106,
           104,
           104,
           104,
           95,
           95,
           95,
           93,
           89,
           88,
           88,
           88,
           86,
           85,
           85,
           85,
           84,
           84,
           84,
           83,
           82,
           82,
           81,
           80,
           80,
           79,
           78,
           77,
           77,
           77,
           77,
           77,
           76,
           76,
           76,
           75,
           74,
           74,
           74,
           74,
           73,
           73,
           72,
           72,
           72,
           72,
           71,
           71,
           71,
           71,
           70,
           69,
           69,
           68,
           68,
           68,
           68,
           67,
           67,
           67,
           66,
           66,
           66,
           66,
           66,
           66,
           66,
           66,
           65,
           65,
           64,
           63,
           63,
           62,
           61,
           60,
           58,
           58,
           58,
           58,
           57,
           57,
           57,
           57,
           57,
           57,
           57,
           56,
           56,
           56,
           56,
           56,
           56,
           55,
           55,
           55,
           54,
           54,
           54,
           54,
           53,
           53,
           53,
           52,
           52,
           52,
           52,
           52,
           51,
           51,
           51,
           51,
           51,
           50,
           49,
           49,
           49,
           48,
           48,
           47,
           46,
           46,
           46,
           46,
           46,
           46,
           45,
           45,
           45,
           44,
           43,
           43,
           43,
           43,
           42,
           41,
           41,
           40,
           40,
           40,
           40,
           39,
           39,
           38,
           38,
           37,
           37,
           37,
           36,
           36,
           35,
           35,
           34,
           34,
           33,
           33,
           33,
           33,
           32,
           32,
           32,
           32,
           32,
           31,
           31,
           30,
           30,
           29,
           29,
           29,
           29,
           28,
           28,
           28,
           28,
           27,
           27,
           27,
           27,
           26,
           26,
           26,
           25,
           23,
           23,
           20,
           18,
           15
          ],
          "coloraxis": "coloraxis",
          "pattern": {
           "shape": ""
          }
         },
         "name": "",
         "r": [
          380,
          376,
          376,
          374,
          374,
          371,
          370,
          363,
          362,
          361,
          353,
          351,
          350,
          349,
          348,
          347,
          347,
          346,
          346,
          346,
          344,
          343,
          343,
          343,
          342,
          342,
          341,
          341,
          340,
          340,
          334,
          330,
          329,
          327,
          327,
          326,
          324,
          324,
          323,
          321,
          321,
          315,
          315,
          313,
          312,
          311,
          309,
          306,
          300,
          297,
          297,
          295,
          293,
          293,
          289,
          288,
          283,
          283,
          282,
          281,
          280,
          278,
          275,
          274,
          272,
          270,
          267,
          264,
          262,
          261,
          261,
          256,
          256,
          256,
          256,
          255,
          254,
          254,
          253,
          252,
          252,
          252,
          252,
          250,
          249,
          247,
          246,
          246,
          244,
          237,
          236,
          235,
          231,
          231,
          229,
          228,
          227,
          227,
          225,
          224,
          223,
          222,
          222,
          219,
          218,
          218,
          216,
          211,
          210,
          209,
          209,
          208,
          202,
          201,
          200,
          199,
          196,
          196,
          194,
          192,
          192,
          189,
          189,
          186,
          184,
          183,
          183,
          182,
          176,
          175,
          175,
          175,
          175,
          174,
          173,
          173,
          172,
          168,
          167,
          166,
          162,
          158,
          156,
          155,
          151,
          150,
          149,
          148,
          148,
          146,
          145,
          140,
          137,
          135,
          129,
          128,
          128,
          127,
          125,
          121,
          120,
          118,
          117,
          114,
          113,
          112,
          110,
          110,
          110,
          108,
          108,
          106,
          106,
          106,
          104,
          104,
          104,
          95,
          95,
          95,
          93,
          89,
          88,
          88,
          88,
          86,
          85,
          85,
          85,
          84,
          84,
          84,
          83,
          82,
          82,
          81,
          80,
          80,
          79,
          78,
          77,
          77,
          77,
          77,
          77,
          76,
          76,
          76,
          75,
          74,
          74,
          74,
          74,
          73,
          73,
          72,
          72,
          72,
          72,
          71,
          71,
          71,
          71,
          70,
          69,
          69,
          68,
          68,
          68,
          68,
          67,
          67,
          67,
          66,
          66,
          66,
          66,
          66,
          66,
          66,
          66,
          65,
          65,
          64,
          63,
          63,
          62,
          61,
          60,
          58,
          58,
          58,
          58,
          57,
          57,
          57,
          57,
          57,
          57,
          57,
          56,
          56,
          56,
          56,
          56,
          56,
          55,
          55,
          55,
          54,
          54,
          54,
          54,
          53,
          53,
          53,
          52,
          52,
          52,
          52,
          52,
          51,
          51,
          51,
          51,
          51,
          50,
          49,
          49,
          49,
          48,
          48,
          47,
          46,
          46,
          46,
          46,
          46,
          46,
          45,
          45,
          45,
          44,
          43,
          43,
          43,
          43,
          42,
          41,
          41,
          40,
          40,
          40,
          40,
          39,
          39,
          38,
          38,
          37,
          37,
          37,
          36,
          36,
          35,
          35,
          34,
          34,
          33,
          33,
          33,
          33,
          32,
          32,
          32,
          32,
          32,
          31,
          31,
          30,
          30,
          29,
          29,
          29,
          29,
          28,
          28,
          28,
          28,
          27,
          27,
          27,
          27,
          26,
          26,
          26,
          25,
          23,
          23,
          20,
          18,
          15
         ],
         "showlegend": false,
         "subplot": "polar",
         "theta": [
          196,
          259,
          255,
          253,
          256,
          261,
          260,
          203,
          200,
          201,
          272,
          257,
          202,
          205,
          204,
          264,
          198,
          251,
          208,
          199,
          254,
          274,
          271,
          252,
          206,
          258,
          197,
          265,
          266,
          267,
          210,
          275,
          270,
          269,
          207,
          262,
          209,
          211,
          278,
          273,
          276,
          263,
          250,
          268,
          248,
          277,
          195,
          194,
          249,
          243,
          212,
          245,
          279,
          216,
          219,
          214,
          246,
          280,
          244,
          215,
          213,
          282,
          242,
          191,
          217,
          286,
          239,
          241,
          281,
          218,
          283,
          240,
          285,
          247,
          192,
          193,
          238,
          225,
          224,
          190,
          236,
          235,
          222,
          287,
          290,
          291,
          221,
          228,
          237,
          227,
          234,
          220,
          284,
          288,
          230,
          188,
          223,
          233,
          187,
          293,
          232,
          189,
          289,
          231,
          226,
          141,
          186,
          292,
          229,
          181,
          294,
          140,
          185,
          182,
          295,
          143,
          137,
          135,
          138,
          184,
          142,
          147,
          139,
          179,
          146,
          180,
          183,
          136,
          150,
          297,
          178,
          177,
          154,
          298,
          153,
          148,
          296,
          144,
          145,
          134,
          155,
          176,
          299,
          151,
          301,
          149,
          302,
          174,
          152,
          300,
          173,
          133,
          159,
          156,
          157,
          158,
          171,
          170,
          175,
          303,
          160,
          161,
          167,
          172,
          169,
          132,
          131,
          168,
          130,
          165,
          304,
          164,
          166,
          305,
          309,
          162,
          163,
          308,
          307,
          4,
          3,
          12,
          359,
          1,
          9,
          314,
          6,
          332,
          112,
          13,
          311,
          310,
          358,
          312,
          337,
          8,
          10,
          5,
          356,
          129,
          338,
          306,
          128,
          354,
          324,
          11,
          316,
          7,
          2,
          339,
          115,
          357,
          333,
          330,
          318,
          54,
          313,
          342,
          319,
          322,
          323,
          317,
          125,
          335,
          111,
          343,
          109,
          321,
          315,
          346,
          320,
          113,
          351,
          15,
          326,
          334,
          327,
          345,
          341,
          328,
          331,
          126,
          34,
          127,
          355,
          14,
          340,
          348,
          32,
          103,
          352,
          116,
          118,
          336,
          110,
          114,
          38,
          123,
          52,
          349,
          33,
          119,
          18,
          57,
          120,
          329,
          108,
          55,
          36,
          350,
          61,
          353,
          325,
          24,
          29,
          347,
          117,
          48,
          64,
          107,
          124,
          39,
          28,
          56,
          35,
          27,
          104,
          37,
          30,
          20,
          53,
          0,
          122,
          101,
          49,
          31,
          44,
          344,
          21,
          51,
          50,
          62,
          23,
          60,
          16,
          66,
          59,
          47,
          102,
          58,
          22,
          41,
          43,
          65,
          42,
          25,
          106,
          121,
          40,
          19,
          96,
          74,
          26,
          73,
          83,
          81,
          100,
          68,
          99,
          89,
          17,
          80,
          76,
          97,
          45,
          85,
          63,
          86,
          78,
          69,
          46,
          360,
          95,
          98,
          88,
          82,
          105,
          87,
          93,
          67,
          92,
          72,
          94,
          84,
          71,
          90,
          70,
          77,
          91,
          79,
          75
         ],
         "type": "barpolar"
        }
       ],
       "layout": {
        "barmode": "relative",
        "barnorm": "percent",
        "coloraxis": {
         "colorbar": {
          "title": {
           "text": "count"
          }
         },
         "colorscale": [
          [
           0,
           "#0d0887"
          ],
          [
           0.1111111111111111,
           "#46039f"
          ],
          [
           0.2222222222222222,
           "#7201a8"
          ],
          [
           0.3333333333333333,
           "#9c179e"
          ],
          [
           0.4444444444444444,
           "#bd3786"
          ],
          [
           0.5555555555555556,
           "#d8576b"
          ],
          [
           0.6666666666666666,
           "#ed7953"
          ],
          [
           0.7777777777777778,
           "#fb9f3a"
          ],
          [
           0.8888888888888888,
           "#fdca26"
          ],
          [
           1,
           "#f0f921"
          ]
         ]
        },
        "legend": {
         "tracegroupgap": 0
        },
        "margin": {
         "t": 60
        },
        "polar": {
         "angularaxis": {
          "direction": "clockwise",
          "rotation": 90
         },
         "domain": {
          "x": [
           0,
           1
          ],
          "y": [
           0,
           1
          ]
         }
        },
        "template": {
         "data": {
          "bar": [
           {
            "error_x": {
             "color": "#f2f5fa"
            },
            "error_y": {
             "color": "#f2f5fa"
            },
            "marker": {
             "line": {
              "color": "rgb(17,17,17)",
              "width": 0.5
             },
             "pattern": {
              "fillmode": "overlay",
              "size": 10,
              "solidity": 0.2
             }
            },
            "type": "bar"
           }
          ],
          "barpolar": [
           {
            "marker": {
             "line": {
              "color": "rgb(17,17,17)",
              "width": 0.5
             },
             "pattern": {
              "fillmode": "overlay",
              "size": 10,
              "solidity": 0.2
             }
            },
            "type": "barpolar"
           }
          ],
          "carpet": [
           {
            "aaxis": {
             "endlinecolor": "#A2B1C6",
             "gridcolor": "#506784",
             "linecolor": "#506784",
             "minorgridcolor": "#506784",
             "startlinecolor": "#A2B1C6"
            },
            "baxis": {
             "endlinecolor": "#A2B1C6",
             "gridcolor": "#506784",
             "linecolor": "#506784",
             "minorgridcolor": "#506784",
             "startlinecolor": "#A2B1C6"
            },
            "type": "carpet"
           }
          ],
          "choropleth": [
           {
            "colorbar": {
             "outlinewidth": 0,
             "ticks": ""
            },
            "type": "choropleth"
           }
          ],
          "contour": [
           {
            "colorbar": {
             "outlinewidth": 0,
             "ticks": ""
            },
            "colorscale": [
             [
              0,
              "#0d0887"
             ],
             [
              0.1111111111111111,
              "#46039f"
             ],
             [
              0.2222222222222222,
              "#7201a8"
             ],
             [
              0.3333333333333333,
              "#9c179e"
             ],
             [
              0.4444444444444444,
              "#bd3786"
             ],
             [
              0.5555555555555556,
              "#d8576b"
             ],
             [
              0.6666666666666666,
              "#ed7953"
             ],
             [
              0.7777777777777778,
              "#fb9f3a"
             ],
             [
              0.8888888888888888,
              "#fdca26"
             ],
             [
              1,
              "#f0f921"
             ]
            ],
            "type": "contour"
           }
          ],
          "contourcarpet": [
           {
            "colorbar": {
             "outlinewidth": 0,
             "ticks": ""
            },
            "type": "contourcarpet"
           }
          ],
          "heatmap": [
           {
            "colorbar": {
             "outlinewidth": 0,
             "ticks": ""
            },
            "colorscale": [
             [
              0,
              "#0d0887"
             ],
             [
              0.1111111111111111,
              "#46039f"
             ],
             [
              0.2222222222222222,
              "#7201a8"
             ],
             [
              0.3333333333333333,
              "#9c179e"
             ],
             [
              0.4444444444444444,
              "#bd3786"
             ],
             [
              0.5555555555555556,
              "#d8576b"
             ],
             [
              0.6666666666666666,
              "#ed7953"
             ],
             [
              0.7777777777777778,
              "#fb9f3a"
             ],
             [
              0.8888888888888888,
              "#fdca26"
             ],
             [
              1,
              "#f0f921"
             ]
            ],
            "type": "heatmap"
           }
          ],
          "heatmapgl": [
           {
            "colorbar": {
             "outlinewidth": 0,
             "ticks": ""
            },
            "colorscale": [
             [
              0,
              "#0d0887"
             ],
             [
              0.1111111111111111,
              "#46039f"
             ],
             [
              0.2222222222222222,
              "#7201a8"
             ],
             [
              0.3333333333333333,
              "#9c179e"
             ],
             [
              0.4444444444444444,
              "#bd3786"
             ],
             [
              0.5555555555555556,
              "#d8576b"
             ],
             [
              0.6666666666666666,
              "#ed7953"
             ],
             [
              0.7777777777777778,
              "#fb9f3a"
             ],
             [
              0.8888888888888888,
              "#fdca26"
             ],
             [
              1,
              "#f0f921"
             ]
            ],
            "type": "heatmapgl"
           }
          ],
          "histogram": [
           {
            "marker": {
             "pattern": {
              "fillmode": "overlay",
              "size": 10,
              "solidity": 0.2
             }
            },
            "type": "histogram"
           }
          ],
          "histogram2d": [
           {
            "colorbar": {
             "outlinewidth": 0,
             "ticks": ""
            },
            "colorscale": [
             [
              0,
              "#0d0887"
             ],
             [
              0.1111111111111111,
              "#46039f"
             ],
             [
              0.2222222222222222,
              "#7201a8"
             ],
             [
              0.3333333333333333,
              "#9c179e"
             ],
             [
              0.4444444444444444,
              "#bd3786"
             ],
             [
              0.5555555555555556,
              "#d8576b"
             ],
             [
              0.6666666666666666,
              "#ed7953"
             ],
             [
              0.7777777777777778,
              "#fb9f3a"
             ],
             [
              0.8888888888888888,
              "#fdca26"
             ],
             [
              1,
              "#f0f921"
             ]
            ],
            "type": "histogram2d"
           }
          ],
          "histogram2dcontour": [
           {
            "colorbar": {
             "outlinewidth": 0,
             "ticks": ""
            },
            "colorscale": [
             [
              0,
              "#0d0887"
             ],
             [
              0.1111111111111111,
              "#46039f"
             ],
             [
              0.2222222222222222,
              "#7201a8"
             ],
             [
              0.3333333333333333,
              "#9c179e"
             ],
             [
              0.4444444444444444,
              "#bd3786"
             ],
             [
              0.5555555555555556,
              "#d8576b"
             ],
             [
              0.6666666666666666,
              "#ed7953"
             ],
             [
              0.7777777777777778,
              "#fb9f3a"
             ],
             [
              0.8888888888888888,
              "#fdca26"
             ],
             [
              1,
              "#f0f921"
             ]
            ],
            "type": "histogram2dcontour"
           }
          ],
          "mesh3d": [
           {
            "colorbar": {
             "outlinewidth": 0,
             "ticks": ""
            },
            "type": "mesh3d"
           }
          ],
          "parcoords": [
           {
            "line": {
             "colorbar": {
              "outlinewidth": 0,
              "ticks": ""
             }
            },
            "type": "parcoords"
           }
          ],
          "pie": [
           {
            "automargin": true,
            "type": "pie"
           }
          ],
          "scatter": [
           {
            "marker": {
             "line": {
              "color": "#283442"
             }
            },
            "type": "scatter"
           }
          ],
          "scatter3d": [
           {
            "line": {
             "colorbar": {
              "outlinewidth": 0,
              "ticks": ""
             }
            },
            "marker": {
             "colorbar": {
              "outlinewidth": 0,
              "ticks": ""
             }
            },
            "type": "scatter3d"
           }
          ],
          "scattercarpet": [
           {
            "marker": {
             "colorbar": {
              "outlinewidth": 0,
              "ticks": ""
             }
            },
            "type": "scattercarpet"
           }
          ],
          "scattergeo": [
           {
            "marker": {
             "colorbar": {
              "outlinewidth": 0,
              "ticks": ""
             }
            },
            "type": "scattergeo"
           }
          ],
          "scattergl": [
           {
            "marker": {
             "line": {
              "color": "#283442"
             }
            },
            "type": "scattergl"
           }
          ],
          "scattermapbox": [
           {
            "marker": {
             "colorbar": {
              "outlinewidth": 0,
              "ticks": ""
             }
            },
            "type": "scattermapbox"
           }
          ],
          "scatterpolar": [
           {
            "marker": {
             "colorbar": {
              "outlinewidth": 0,
              "ticks": ""
             }
            },
            "type": "scatterpolar"
           }
          ],
          "scatterpolargl": [
           {
            "marker": {
             "colorbar": {
              "outlinewidth": 0,
              "ticks": ""
             }
            },
            "type": "scatterpolargl"
           }
          ],
          "scatterternary": [
           {
            "marker": {
             "colorbar": {
              "outlinewidth": 0,
              "ticks": ""
             }
            },
            "type": "scatterternary"
           }
          ],
          "surface": [
           {
            "colorbar": {
             "outlinewidth": 0,
             "ticks": ""
            },
            "colorscale": [
             [
              0,
              "#0d0887"
             ],
             [
              0.1111111111111111,
              "#46039f"
             ],
             [
              0.2222222222222222,
              "#7201a8"
             ],
             [
              0.3333333333333333,
              "#9c179e"
             ],
             [
              0.4444444444444444,
              "#bd3786"
             ],
             [
              0.5555555555555556,
              "#d8576b"
             ],
             [
              0.6666666666666666,
              "#ed7953"
             ],
             [
              0.7777777777777778,
              "#fb9f3a"
             ],
             [
              0.8888888888888888,
              "#fdca26"
             ],
             [
              1,
              "#f0f921"
             ]
            ],
            "type": "surface"
           }
          ],
          "table": [
           {
            "cells": {
             "fill": {
              "color": "#506784"
             },
             "line": {
              "color": "rgb(17,17,17)"
             }
            },
            "header": {
             "fill": {
              "color": "#2a3f5f"
             },
             "line": {
              "color": "rgb(17,17,17)"
             }
            },
            "type": "table"
           }
          ]
         },
         "layout": {
          "annotationdefaults": {
           "arrowcolor": "#f2f5fa",
           "arrowhead": 0,
           "arrowwidth": 1
          },
          "autotypenumbers": "strict",
          "coloraxis": {
           "colorbar": {
            "outlinewidth": 0,
            "ticks": ""
           }
          },
          "colorscale": {
           "diverging": [
            [
             0,
             "#8e0152"
            ],
            [
             0.1,
             "#c51b7d"
            ],
            [
             0.2,
             "#de77ae"
            ],
            [
             0.3,
             "#f1b6da"
            ],
            [
             0.4,
             "#fde0ef"
            ],
            [
             0.5,
             "#f7f7f7"
            ],
            [
             0.6,
             "#e6f5d0"
            ],
            [
             0.7,
             "#b8e186"
            ],
            [
             0.8,
             "#7fbc41"
            ],
            [
             0.9,
             "#4d9221"
            ],
            [
             1,
             "#276419"
            ]
           ],
           "sequential": [
            [
             0,
             "#0d0887"
            ],
            [
             0.1111111111111111,
             "#46039f"
            ],
            [
             0.2222222222222222,
             "#7201a8"
            ],
            [
             0.3333333333333333,
             "#9c179e"
            ],
            [
             0.4444444444444444,
             "#bd3786"
            ],
            [
             0.5555555555555556,
             "#d8576b"
            ],
            [
             0.6666666666666666,
             "#ed7953"
            ],
            [
             0.7777777777777778,
             "#fb9f3a"
            ],
            [
             0.8888888888888888,
             "#fdca26"
            ],
            [
             1,
             "#f0f921"
            ]
           ],
           "sequentialminus": [
            [
             0,
             "#0d0887"
            ],
            [
             0.1111111111111111,
             "#46039f"
            ],
            [
             0.2222222222222222,
             "#7201a8"
            ],
            [
             0.3333333333333333,
             "#9c179e"
            ],
            [
             0.4444444444444444,
             "#bd3786"
            ],
            [
             0.5555555555555556,
             "#d8576b"
            ],
            [
             0.6666666666666666,
             "#ed7953"
            ],
            [
             0.7777777777777778,
             "#fb9f3a"
            ],
            [
             0.8888888888888888,
             "#fdca26"
            ],
            [
             1,
             "#f0f921"
            ]
           ]
          },
          "colorway": [
           "#636efa",
           "#EF553B",
           "#00cc96",
           "#ab63fa",
           "#FFA15A",
           "#19d3f3",
           "#FF6692",
           "#B6E880",
           "#FF97FF",
           "#FECB52"
          ],
          "font": {
           "color": "#f2f5fa"
          },
          "geo": {
           "bgcolor": "rgb(17,17,17)",
           "lakecolor": "rgb(17,17,17)",
           "landcolor": "rgb(17,17,17)",
           "showlakes": true,
           "showland": true,
           "subunitcolor": "#506784"
          },
          "hoverlabel": {
           "align": "left"
          },
          "hovermode": "closest",
          "mapbox": {
           "style": "dark"
          },
          "paper_bgcolor": "rgb(17,17,17)",
          "plot_bgcolor": "rgb(17,17,17)",
          "polar": {
           "angularaxis": {
            "gridcolor": "#506784",
            "linecolor": "#506784",
            "ticks": ""
           },
           "bgcolor": "rgb(17,17,17)",
           "radialaxis": {
            "gridcolor": "#506784",
            "linecolor": "#506784",
            "ticks": ""
           }
          },
          "scene": {
           "xaxis": {
            "backgroundcolor": "rgb(17,17,17)",
            "gridcolor": "#506784",
            "gridwidth": 2,
            "linecolor": "#506784",
            "showbackground": true,
            "ticks": "",
            "zerolinecolor": "#C8D4E3"
           },
           "yaxis": {
            "backgroundcolor": "rgb(17,17,17)",
            "gridcolor": "#506784",
            "gridwidth": 2,
            "linecolor": "#506784",
            "showbackground": true,
            "ticks": "",
            "zerolinecolor": "#C8D4E3"
           },
           "zaxis": {
            "backgroundcolor": "rgb(17,17,17)",
            "gridcolor": "#506784",
            "gridwidth": 2,
            "linecolor": "#506784",
            "showbackground": true,
            "ticks": "",
            "zerolinecolor": "#C8D4E3"
           }
          },
          "shapedefaults": {
           "line": {
            "color": "#f2f5fa"
           }
          },
          "sliderdefaults": {
           "bgcolor": "#C8D4E3",
           "bordercolor": "rgb(17,17,17)",
           "borderwidth": 1,
           "tickwidth": 0
          },
          "ternary": {
           "aaxis": {
            "gridcolor": "#506784",
            "linecolor": "#506784",
            "ticks": ""
           },
           "baxis": {
            "gridcolor": "#506784",
            "linecolor": "#506784",
            "ticks": ""
           },
           "bgcolor": "rgb(17,17,17)",
           "caxis": {
            "gridcolor": "#506784",
            "linecolor": "#506784",
            "ticks": ""
           }
          },
          "title": {
           "x": 0.05
          },
          "updatemenudefaults": {
           "bgcolor": "#506784",
           "borderwidth": 0
          },
          "xaxis": {
           "automargin": true,
           "gridcolor": "#283442",
           "linecolor": "#506784",
           "ticks": "",
           "title": {
            "standoff": 15
           },
           "zerolinecolor": "#283442",
           "zerolinewidth": 2
          },
          "yaxis": {
           "automargin": true,
           "gridcolor": "#283442",
           "linecolor": "#506784",
           "ticks": "",
           "title": {
            "standoff": 15
           },
           "zerolinecolor": "#283442",
           "zerolinewidth": 2
          }
         }
        }
       }
      }
     },
     "metadata": {},
     "output_type": "display_data"
    }
   ],
   "source": [
    "# put mean wind speed in that direction and then make the colour = that  ? DO THID BUT NOT RN\n",
    "\n",
    "fig = px.bar_polar(dir_vcounts, r=\"count\", theta = 'wind_dir_rounded',\n",
    "                   template=\"plotly_dark\", barmode = 'relative',\n",
    "                   color_discrete_sequence= px.colors.sequential.Plasma_r, color = 'count', barnorm=\"percent\")\n",
    "fig.show()"
   ]
  },
  {
   "cell_type": "code",
   "execution_count": null,
   "metadata": {},
   "outputs": [],
   "source": []
  }
 ],
 "metadata": {
  "kernelspec": {
   "display_name": "wind_energy",
   "language": "python",
   "name": "python3"
  },
  "language_info": {
   "codemirror_mode": {
    "name": "ipython",
    "version": 3
   },
   "file_extension": ".py",
   "mimetype": "text/x-python",
   "name": "python",
   "nbconvert_exporter": "python",
   "pygments_lexer": "ipython3",
   "version": "3.9.18"
  }
 },
 "nbformat": 4,
 "nbformat_minor": 2
}
